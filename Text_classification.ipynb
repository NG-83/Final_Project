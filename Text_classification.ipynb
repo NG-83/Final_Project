{
 "cells": [
  {
   "cell_type": "markdown",
   "metadata": {},
   "source": [
    "## Classification"
   ]
  },
  {
   "cell_type": "code",
   "execution_count": 2,
   "metadata": {},
   "outputs": [],
   "source": [
    "import pandas as pd\n",
    "import numpy as np\n",
    "import re\n",
    "import csv\n",
    "import matplotlib.pyplot as plt\n",
    "import seaborn as sns\n",
    "import sklearn\n",
    "from sklearn import preprocessing\n",
    "from sklearn.preprocessing import LabelEncoder\n",
    "from collections import Counter\n",
    "from stop_words import get_stop_words\n",
    "import nltk\n",
    "from nltk import wordpunct_tokenize\n",
    "from nltk.corpus import stopwords\n",
    "from nltk.stem import WordNetLemmatizer\n",
    "lemmatizer = WordNetLemmatizer()\n",
    "from nltk.corpus import wordnet\n",
    "\n",
    "import string\n",
    "from string import punctuation\n",
    "string.punctuation += '-—«»—…–“”'\n",
    "\n",
    "import pkg_resources\n",
    "from symspellpy.symspellpy import SymSpell\n",
    "\n",
    "from sklearn.model_selection import train_test_split\n",
    "import sklearn\n",
    "from sklearn.metrics import classification_report, confusion_matrix\n",
    "\n",
    "import tensorflow as tf\n",
    "from tensorflow.keras.preprocessing.text import Tokenizer\n",
    "from tensorflow.keras.preprocessing.sequence import pad_sequences\n",
    "from tensorflow.keras.layers import LSTM,Bidirectional,Dense,Embedding,Dropout\n",
    "from tensorflow.keras.models import Sequential\n",
    "from tensorflow.keras.models import load_model\n",
    "from tensorflow.keras.utils import to_categorical\n",
    "\n",
    "import keras\n",
    "from keras.preprocessing import sequence\n",
    "\n",
    "import gensim\n",
    "from gensim.models import FastText"
   ]
  },
  {
   "cell_type": "code",
   "execution_count": 4,
   "metadata": {},
   "outputs": [],
   "source": [
    "data = pd.read_csv('Lemmas_last.csv')"
   ]
  },
  {
   "cell_type": "code",
   "execution_count": 5,
   "metadata": {},
   "outputs": [
    {
     "data": {
      "text/html": [
       "<div>\n",
       "<style scoped>\n",
       "    .dataframe tbody tr th:only-of-type {\n",
       "        vertical-align: middle;\n",
       "    }\n",
       "\n",
       "    .dataframe tbody tr th {\n",
       "        vertical-align: top;\n",
       "    }\n",
       "\n",
       "    .dataframe thead th {\n",
       "        text-align: right;\n",
       "    }\n",
       "</style>\n",
       "<table border=\"1\" class=\"dataframe\">\n",
       "  <thead>\n",
       "    <tr style=\"text-align: right;\">\n",
       "      <th></th>\n",
       "      <th>Product</th>\n",
       "      <th>Consumer complaint narrative</th>\n",
       "      <th>lemmas</th>\n",
       "    </tr>\n",
       "  </thead>\n",
       "  <tbody>\n",
       "    <tr>\n",
       "      <th>0</th>\n",
       "      <td>Money transfer, virtual currency, or money ser...</td>\n",
       "      <td>Coin base refuses to change my email address t...</td>\n",
       "      <td>coin base refuse change email address longer a...</td>\n",
       "    </tr>\n",
       "    <tr>\n",
       "      <th>1</th>\n",
       "      <td>Credit card or prepaid card</td>\n",
       "      <td>Capital One Bank has not resolved or attempted...</td>\n",
       "      <td>capital one bank resolve attempt resolve issue...</td>\n",
       "    </tr>\n",
       "    <tr>\n",
       "      <th>2</th>\n",
       "      <td>Checking or savings account</td>\n",
       "      <td>On XX/XX/2018 I traveled to XXXX. I remained i...</td>\n",
       "      <td>travel remain absence us confirm flight reserv...</td>\n",
       "    </tr>\n",
       "    <tr>\n",
       "      <th>3</th>\n",
       "      <td>Money transfer, virtual currency, or money ser...</td>\n",
       "      <td>Hi, On XXXX XXXX fraud transactions ( XXXX tra...</td>\n",
       "      <td>fraud transaction transfer happen bank check a...</td>\n",
       "    </tr>\n",
       "    <tr>\n",
       "      <th>4</th>\n",
       "      <td>Vehicle loan or lease</td>\n",
       "      <td>We pay extra every month on a car loan that we...</td>\n",
       "      <td>pay extra every month car loan obtain notice e...</td>\n",
       "    </tr>\n",
       "    <tr>\n",
       "      <th>...</th>\n",
       "      <td>...</td>\n",
       "      <td>...</td>\n",
       "      <td>...</td>\n",
       "    </tr>\n",
       "    <tr>\n",
       "      <th>94810</th>\n",
       "      <td>Checking or savings account</td>\n",
       "      <td>I opened an account with BOA, which I had in g...</td>\n",
       "      <td>open account boa good standing several year ne...</td>\n",
       "    </tr>\n",
       "    <tr>\n",
       "      <th>94811</th>\n",
       "      <td>Mortgage</td>\n",
       "      <td>my wife had 3 XXXX  XXXX in 2 years. i got lai...</td>\n",
       "      <td>wife year get lay lot work get lay get letter ...</td>\n",
       "    </tr>\n",
       "    <tr>\n",
       "      <th>94812</th>\n",
       "      <td>Vehicle loan or lease</td>\n",
       "      <td>This complaint is related to GM Financial XXXX...</td>\n",
       "      <td>complaint relate pm financial address tom fina...</td>\n",
       "    </tr>\n",
       "    <tr>\n",
       "      <th>94813</th>\n",
       "      <td>Mortgage</td>\n",
       "      <td>My situation dates back many years to dealings...</td>\n",
       "      <td>situation date back many year dealing region b...</td>\n",
       "    </tr>\n",
       "    <tr>\n",
       "      <th>94814</th>\n",
       "      <td>Student loan</td>\n",
       "      <td>I have 3 issues : 1. I have been on an income ...</td>\n",
       "      <td>issue income base repayment plan since standar...</td>\n",
       "    </tr>\n",
       "  </tbody>\n",
       "</table>\n",
       "<p>94815 rows × 3 columns</p>\n",
       "</div>"
      ],
      "text/plain": [
       "                                                 Product  \\\n",
       "0      Money transfer, virtual currency, or money ser...   \n",
       "1                            Credit card or prepaid card   \n",
       "2                            Checking or savings account   \n",
       "3      Money transfer, virtual currency, or money ser...   \n",
       "4                                  Vehicle loan or lease   \n",
       "...                                                  ...   \n",
       "94810                        Checking or savings account   \n",
       "94811                                           Mortgage   \n",
       "94812                              Vehicle loan or lease   \n",
       "94813                                           Mortgage   \n",
       "94814                                       Student loan   \n",
       "\n",
       "                            Consumer complaint narrative  \\\n",
       "0      Coin base refuses to change my email address t...   \n",
       "1      Capital One Bank has not resolved or attempted...   \n",
       "2      On XX/XX/2018 I traveled to XXXX. I remained i...   \n",
       "3      Hi, On XXXX XXXX fraud transactions ( XXXX tra...   \n",
       "4      We pay extra every month on a car loan that we...   \n",
       "...                                                  ...   \n",
       "94810  I opened an account with BOA, which I had in g...   \n",
       "94811  my wife had 3 XXXX  XXXX in 2 years. i got lai...   \n",
       "94812  This complaint is related to GM Financial XXXX...   \n",
       "94813  My situation dates back many years to dealings...   \n",
       "94814  I have 3 issues : 1. I have been on an income ...   \n",
       "\n",
       "                                                  lemmas  \n",
       "0      coin base refuse change email address longer a...  \n",
       "1      capital one bank resolve attempt resolve issue...  \n",
       "2      travel remain absence us confirm flight reserv...  \n",
       "3      fraud transaction transfer happen bank check a...  \n",
       "4      pay extra every month car loan obtain notice e...  \n",
       "...                                                  ...  \n",
       "94810  open account boa good standing several year ne...  \n",
       "94811  wife year get lay lot work get lay get letter ...  \n",
       "94812  complaint relate pm financial address tom fina...  \n",
       "94813  situation date back many year dealing region b...  \n",
       "94814  issue income base repayment plan since standar...  \n",
       "\n",
       "[94815 rows x 3 columns]"
      ]
     },
     "execution_count": 5,
     "metadata": {},
     "output_type": "execute_result"
    }
   ],
   "source": [
    "data"
   ]
  },
  {
   "cell_type": "markdown",
   "metadata": {},
   "source": [
    "Перемешаем данные."
   ]
  },
  {
   "cell_type": "code",
   "execution_count": 43,
   "metadata": {},
   "outputs": [],
   "source": [
    "data = data.sample(frac=1).reset_index(drop='True')"
   ]
  },
  {
   "cell_type": "code",
   "execution_count": 44,
   "metadata": {},
   "outputs": [
    {
     "data": {
      "text/html": [
       "<div>\n",
       "<style scoped>\n",
       "    .dataframe tbody tr th:only-of-type {\n",
       "        vertical-align: middle;\n",
       "    }\n",
       "\n",
       "    .dataframe tbody tr th {\n",
       "        vertical-align: top;\n",
       "    }\n",
       "\n",
       "    .dataframe thead th {\n",
       "        text-align: right;\n",
       "    }\n",
       "</style>\n",
       "<table border=\"1\" class=\"dataframe\">\n",
       "  <thead>\n",
       "    <tr style=\"text-align: right;\">\n",
       "      <th></th>\n",
       "      <th>Product</th>\n",
       "      <th>Consumer complaint narrative</th>\n",
       "      <th>lemmas</th>\n",
       "    </tr>\n",
       "  </thead>\n",
       "  <tbody>\n",
       "    <tr>\n",
       "      <th>0</th>\n",
       "      <td>Credit reporting, credit repair services, or o...</td>\n",
       "      <td>I am making a final goodwill attempt to have X...</td>\n",
       "      <td>make final goodwill attempt trans union clear ...</td>\n",
       "    </tr>\n",
       "    <tr>\n",
       "      <th>1</th>\n",
       "      <td>Vehicle loan or lease</td>\n",
       "      <td>I, Am writing this letter for a family member ...</td>\n",
       "      <td>write letter family member speak english estim...</td>\n",
       "    </tr>\n",
       "    <tr>\n",
       "      <th>2</th>\n",
       "      <td>Checking or savings account</td>\n",
       "      <td>I have bill service at BBT and month after the...</td>\n",
       "      <td>bill service month pay bill early schedule pay...</td>\n",
       "    </tr>\n",
       "    <tr>\n",
       "      <th>3</th>\n",
       "      <td>Credit reporting, credit repair services, or o...</td>\n",
       "      <td>I have been disputing this debt inaccuracy for...</td>\n",
       "      <td>dispute debt inaccuracy month late letter expe...</td>\n",
       "    </tr>\n",
       "    <tr>\n",
       "      <th>4</th>\n",
       "      <td>Student loan</td>\n",
       "      <td>My bank account was drafted by a third party l...</td>\n",
       "      <td>bank account draft third party loan forgivenes...</td>\n",
       "    </tr>\n",
       "    <tr>\n",
       "      <th>...</th>\n",
       "      <td>...</td>\n",
       "      <td>...</td>\n",
       "      <td>...</td>\n",
       "    </tr>\n",
       "    <tr>\n",
       "      <th>94810</th>\n",
       "      <td>Mortgage</td>\n",
       "      <td>During my mortgage transfer, the gaining loan ...</td>\n",
       "      <td>mortgage transfer gaining loan service poor cu...</td>\n",
       "    </tr>\n",
       "    <tr>\n",
       "      <th>94811</th>\n",
       "      <td>Credit card or prepaid card</td>\n",
       "      <td>XX/XX/XXXX Bank of America # XXXX. My income w...</td>\n",
       "      <td>bank america income decrease social security a...</td>\n",
       "    </tr>\n",
       "    <tr>\n",
       "      <th>94812</th>\n",
       "      <td>Mortgage</td>\n",
       "      <td>WIFE OMITTED FROM MORTGAGE : 1. All through th...</td>\n",
       "      <td>wife omit mortgage application process basis m...</td>\n",
       "    </tr>\n",
       "    <tr>\n",
       "      <th>94813</th>\n",
       "      <td>Checking or savings account</td>\n",
       "      <td>I have a checkin account with Santander Bank. ...</td>\n",
       "      <td>checking account santa bank account open regul...</td>\n",
       "    </tr>\n",
       "    <tr>\n",
       "      <th>94814</th>\n",
       "      <td>Payday loan, title loan, or personal loan</td>\n",
       "      <td>On XX/XX/XXXX, I emailed XXXX, as outlined in ...</td>\n",
       "      <td>email outline term condition state revoke auth...</td>\n",
       "    </tr>\n",
       "  </tbody>\n",
       "</table>\n",
       "<p>94815 rows × 3 columns</p>\n",
       "</div>"
      ],
      "text/plain": [
       "                                                 Product  \\\n",
       "0      Credit reporting, credit repair services, or o...   \n",
       "1                                  Vehicle loan or lease   \n",
       "2                            Checking or savings account   \n",
       "3      Credit reporting, credit repair services, or o...   \n",
       "4                                           Student loan   \n",
       "...                                                  ...   \n",
       "94810                                           Mortgage   \n",
       "94811                        Credit card or prepaid card   \n",
       "94812                                           Mortgage   \n",
       "94813                        Checking or savings account   \n",
       "94814          Payday loan, title loan, or personal loan   \n",
       "\n",
       "                            Consumer complaint narrative  \\\n",
       "0      I am making a final goodwill attempt to have X...   \n",
       "1      I, Am writing this letter for a family member ...   \n",
       "2      I have bill service at BBT and month after the...   \n",
       "3      I have been disputing this debt inaccuracy for...   \n",
       "4      My bank account was drafted by a third party l...   \n",
       "...                                                  ...   \n",
       "94810  During my mortgage transfer, the gaining loan ...   \n",
       "94811  XX/XX/XXXX Bank of America # XXXX. My income w...   \n",
       "94812  WIFE OMITTED FROM MORTGAGE : 1. All through th...   \n",
       "94813  I have a checkin account with Santander Bank. ...   \n",
       "94814  On XX/XX/XXXX, I emailed XXXX, as outlined in ...   \n",
       "\n",
       "                                                  lemmas  \n",
       "0      make final goodwill attempt trans union clear ...  \n",
       "1      write letter family member speak english estim...  \n",
       "2      bill service month pay bill early schedule pay...  \n",
       "3      dispute debt inaccuracy month late letter expe...  \n",
       "4      bank account draft third party loan forgivenes...  \n",
       "...                                                  ...  \n",
       "94810  mortgage transfer gaining loan service poor cu...  \n",
       "94811  bank america income decrease social security a...  \n",
       "94812  wife omit mortgage application process basis m...  \n",
       "94813  checking account santa bank account open regul...  \n",
       "94814  email outline term condition state revoke auth...  \n",
       "\n",
       "[94815 rows x 3 columns]"
      ]
     },
     "execution_count": 44,
     "metadata": {},
     "output_type": "execute_result"
    }
   ],
   "source": [
    "data"
   ]
  },
  {
   "cell_type": "markdown",
   "metadata": {},
   "source": [
    "Выберем столбец с данными и столбец с метками."
   ]
  },
  {
   "cell_type": "code",
   "execution_count": 155,
   "metadata": {},
   "outputs": [
    {
     "name": "stdout",
     "output_type": "stream",
     "text": [
      "(94815,)\n",
      "(94815,)\n"
     ]
    }
   ],
   "source": [
    "X = data['lemmas']\n",
    "y = data['Product']\n",
    "print(X.shape)\n",
    "print(y.shape)"
   ]
  },
  {
   "cell_type": "markdown",
   "metadata": {},
   "source": [
    "Подсчитаем максимальную длину текста."
   ]
  },
  {
   "cell_type": "code",
   "execution_count": 156,
   "metadata": {},
   "outputs": [],
   "source": [
    "max_doc_len = max([len(x.split(\" \")) for x in X])"
   ]
  },
  {
   "cell_type": "code",
   "execution_count": 157,
   "metadata": {},
   "outputs": [
    {
     "data": {
      "text/plain": [
       "438"
      ]
     },
     "execution_count": 157,
     "metadata": {},
     "output_type": "execute_result"
    }
   ],
   "source": [
    "max_doc_len"
   ]
  },
  {
   "cell_type": "markdown",
   "metadata": {},
   "source": [
    "Зададим параметры токенайзера."
   ]
  },
  {
   "cell_type": "code",
   "execution_count": 158,
   "metadata": {},
   "outputs": [],
   "source": [
    "tokenizer = Tokenizer(5000)"
   ]
  },
  {
   "cell_type": "markdown",
   "metadata": {},
   "source": [
    "Векторизуем тексты."
   ]
  },
  {
   "cell_type": "code",
   "execution_count": 159,
   "metadata": {},
   "outputs": [],
   "source": [
    "tokenizer.fit_on_texts(X)\n",
    "X_train_seq = tokenizer.texts_to_sequences(X)\n",
    "X_train_seq = pad_sequences(X_train_seq, maxlen = max_doc_len, padding='post')"
   ]
  },
  {
   "cell_type": "markdown",
   "metadata": {},
   "source": [
    "Закодируем метки классов."
   ]
  },
  {
   "cell_type": "code",
   "execution_count": 160,
   "metadata": {},
   "outputs": [
    {
     "name": "stdout",
     "output_type": "stream",
     "text": [
      "(array([0, 1, 2, 3, 4, 5, 6, 7, 8]), array([10535, 10535, 10535, 10535, 10535, 10535, 10535, 10535, 10535],\n",
      "      dtype=int64))\n",
      "[[0. 0. 1. ... 0. 0. 0.]\n",
      " [0. 0. 0. ... 0. 0. 1.]\n",
      " [1. 0. 0. ... 0. 0. 0.]\n",
      " ...\n",
      " [0. 0. 0. ... 0. 0. 0.]\n",
      " [1. 0. 0. ... 0. 0. 0.]\n",
      " [0. 0. 0. ... 1. 0. 0.]]\n",
      "(94815, 9)\n"
     ]
    }
   ],
   "source": [
    "en = LabelEncoder()\n",
    "y_en = en.fit_transform(y)\n",
    "print(np.unique(y_en, return_counts = True))\n",
    "\n",
    "y_en = to_categorical(y_en, num_classes = 9)\n",
    "print(y_en)\n",
    "print(y_en.shape)"
   ]
  },
  {
   "cell_type": "code",
   "execution_count": 161,
   "metadata": {},
   "outputs": [
    {
     "data": {
      "text/plain": [
       "array(['Checking or savings account', 'Credit card or prepaid card',\n",
       "       'Credit reporting, credit repair services, or other personal consumer reports',\n",
       "       'Debt collection',\n",
       "       'Money transfer, virtual currency, or money service', 'Mortgage',\n",
       "       'Payday loan, title loan, or personal loan', 'Student loan',\n",
       "       'Vehicle loan or lease'], dtype=object)"
      ]
     },
     "execution_count": 161,
     "metadata": {},
     "output_type": "execute_result"
    }
   ],
   "source": [
    "en.classes_"
   ]
  },
  {
   "cell_type": "markdown",
   "metadata": {},
   "source": [
    "Создадим выборки для тренировки и обучения."
   ]
  },
  {
   "cell_type": "code",
   "execution_count": 187,
   "metadata": {},
   "outputs": [
    {
     "name": "stdout",
     "output_type": "stream",
     "text": [
      "(71111, 438)\n",
      "(71111, 9)\n",
      "(23704, 438)\n",
      "(23704, 9)\n"
     ]
    }
   ],
   "source": [
    "X_train, X_test, y_train, y_test = train_test_split(X_train_seq, y_en, test_size=0.25, stratify = y_en)\n",
    "print(X_train.shape)\n",
    "print(y_train.shape)\n",
    "print(X_test.shape)\n",
    "print(y_test.shape)"
   ]
  },
  {
   "cell_type": "code",
   "execution_count": 188,
   "metadata": {},
   "outputs": [
    {
     "name": "stdout",
     "output_type": "stream",
     "text": [
      "[  59 1097   68  412  104  137  488  235   13    4   13   68  578  165\n",
      "   28  312  192    1   78  392   47   68  312  578  165  459  404  312\n",
      " 1373    9 3787  286 2767  224  769   23  370  270   42   57 1349  215\n",
      " 1239   92    9 3328 3340  412  380  224 3553   23   50 3340  286 2098\n",
      " 1006    4   13   65 1923 1483 1005   28  312  286    7 1127  224 3553\n",
      "   23  334  388  387  843  341  358  104  431   23  866  412  104  137\n",
      "   68  137  412 2431  380   23 1188   13  388  387 1038  578  165   33\n",
      "   73   30   23 1038  187   33   65  412 1341 2239  137 2024  973   23\n",
      "  578  165   28  224 3553   23  578  165  808   23 3328 3340  423 1038\n",
      "   23  400  286  388  387 1038 1098  224 3553   23  345 3328 3340   56\n",
      "  412  597 2133  104  291 1435   23  172   68   68  412  185   68  291\n",
      "  109  608  160   23   68  176   23 4230  574    0    0    0    0    0\n",
      "    0    0    0    0    0    0    0    0    0    0    0    0    0    0\n",
      "    0    0    0    0    0    0    0    0    0    0    0    0    0    0\n",
      "    0    0    0    0    0    0    0    0    0    0    0    0    0    0\n",
      "    0    0    0    0    0    0    0    0    0    0    0    0    0    0\n",
      "    0    0    0    0    0    0    0    0    0    0    0    0    0    0\n",
      "    0    0    0    0    0    0    0    0    0    0    0    0    0    0\n",
      "    0    0    0    0    0    0    0    0    0    0    0    0    0    0\n",
      "    0    0    0    0    0    0    0    0    0    0    0    0    0    0\n",
      "    0    0    0    0    0    0    0    0    0    0    0    0    0    0\n",
      "    0    0    0    0    0    0    0    0    0    0    0    0    0    0\n",
      "    0    0    0    0    0    0    0    0    0    0    0    0    0    0\n",
      "    0    0    0    0    0    0    0    0    0    0    0    0    0    0\n",
      "    0    0    0    0    0    0    0    0    0    0    0    0    0    0\n",
      "    0    0    0    0    0    0    0    0    0    0    0    0    0    0\n",
      "    0    0    0    0    0    0    0    0    0    0    0    0    0    0\n",
      "    0    0    0    0    0    0    0    0    0    0    0    0    0    0\n",
      "    0    0    0    0    0    0    0    0    0    0    0    0    0    0\n",
      "    0    0    0    0    0    0    0    0    0    0    0    0    0    0\n",
      "    0    0    0    0    0    0    0    0    0    0    0    0    0    0\n",
      "    0    0    0    0]\n"
     ]
    }
   ],
   "source": [
    "print(X_train[100])"
   ]
  },
  {
   "cell_type": "code",
   "execution_count": 189,
   "metadata": {},
   "outputs": [
    {
     "name": "stdout",
     "output_type": "stream",
     "text": [
      "20862\n"
     ]
    }
   ],
   "source": [
    "word_index = tokenizer.word_index\n",
    "print(len(word_index))"
   ]
  },
  {
   "cell_type": "markdown",
   "metadata": {},
   "source": [
    "Обучим модель FastText на нашем корпусе и создадим матрицу с векторными представлениями слов."
   ]
  },
  {
   "cell_type": "code",
   "execution_count": 165,
   "metadata": {},
   "outputs": [],
   "source": [
    "lemmas = data.lemmas.tolist()\n",
    "lemmas = [i.split() for i in lemmas]"
   ]
  },
  {
   "cell_type": "code",
   "execution_count": 46,
   "metadata": {},
   "outputs": [],
   "source": [
    "model = FastText(size=300, window=5, min_count=1, workers=2)"
   ]
  },
  {
   "cell_type": "code",
   "execution_count": null,
   "metadata": {},
   "outputs": [],
   "source": [
    "model.build_vocab(sentences=lemmas)"
   ]
  },
  {
   "cell_type": "code",
   "execution_count": null,
   "metadata": {},
   "outputs": [],
   "source": [
    "model.train(sentences=lemmas, total_examples=len(lemmas), epochs=10) "
   ]
  },
  {
   "cell_type": "code",
   "execution_count": null,
   "metadata": {},
   "outputs": [],
   "source": [
    "model.save(\"fasttext.model\")"
   ]
  },
  {
   "cell_type": "code",
   "execution_count": 3,
   "metadata": {},
   "outputs": [],
   "source": [
    "model = gensim.models.FastText.load(\"fasttext.model\")"
   ]
  },
  {
   "cell_type": "code",
   "execution_count": 29,
   "metadata": {},
   "outputs": [],
   "source": [
    "vector = model.wv['account']"
   ]
  },
  {
   "cell_type": "code",
   "execution_count": 30,
   "metadata": {},
   "outputs": [
    {
     "data": {
      "text/plain": [
       "array([-1.74757302e+00, -2.93763638e-01, -1.37813106e-01,  2.40931675e-01,\n",
       "        5.10363221e-01,  1.10257959e+00,  1.11384976e+00, -3.09194833e-01,\n",
       "        1.62597525e+00,  3.87565792e-02, -7.82575130e-01,  9.38576400e-01,\n",
       "       -1.05091870e+00,  1.30364192e+00,  7.88448393e-01,  5.93373358e-01,\n",
       "        1.46644592e+00,  9.48265970e-01, -6.84381545e-01,  4.44967568e-01,\n",
       "       -2.27114990e-01,  1.51321340e+00, -2.96204865e-01, -1.67760566e-01,\n",
       "       -1.86732128e-01, -2.82165438e-01, -8.68667006e-01,  1.20634413e+00,\n",
       "        6.90004706e-01, -1.18558788e+00,  1.54036507e-01,  1.00317024e-01,\n",
       "        3.34764928e-01, -2.61712186e-02,  9.20846701e-01, -1.92411268e+00,\n",
       "       -8.57169211e-01, -1.76842324e-02,  6.76416457e-01,  3.05412128e-03,\n",
       "        8.44662189e-01,  1.03904319e+00,  1.11117782e-02,  3.05366158e-01,\n",
       "       -4.13399249e-01, -4.36383814e-01,  9.03074443e-01,  1.01999962e+00,\n",
       "       -7.79607296e-01,  1.29008666e-01,  1.14320433e+00, -5.06016612e-01,\n",
       "        3.91932517e-01, -8.58439147e-01,  1.57643929e-01,  8.63517940e-01,\n",
       "        2.00602484e+00, -1.57455647e+00,  4.22729313e-01, -4.78941500e-01,\n",
       "       -8.99770737e-01,  5.95615432e-02, -4.56535548e-01,  1.49154651e+00,\n",
       "       -3.55982602e-01, -7.30203569e-01, -1.48288891e-01,  3.31928134e-01,\n",
       "        1.06127095e+00,  4.61453348e-01, -8.40765238e-01,  1.38977051e-01,\n",
       "       -4.67048138e-01,  7.38834620e-01, -9.35083628e-01, -6.73613787e-01,\n",
       "       -1.89388669e+00, -3.02254170e-01,  4.31211680e-01, -9.85245228e-01,\n",
       "        2.11786056e+00, -1.30702481e-01,  2.16347814e-01,  6.06411733e-02,\n",
       "        5.95304310e-01,  5.59010327e-01,  5.76053679e-01,  5.61753094e-01,\n",
       "        9.09957886e-02,  9.23254490e-02,  1.23722744e+00, -1.55791768e-03,\n",
       "        2.00150037e+00,  2.55319234e-02, -7.60239586e-02,  7.99214020e-02,\n",
       "       -6.66187644e-01, -1.03521526e+00, -2.54407346e-01,  2.88857460e-01,\n",
       "        1.31996667e+00,  9.72908020e-01, -3.52373630e-01, -4.46631223e-01,\n",
       "       -2.66032726e-01, -4.16506350e-01,  3.47282052e-01, -9.59877789e-01,\n",
       "       -9.16764736e-01, -1.81264484e+00,  1.72032702e+00,  5.86723447e-01,\n",
       "        1.25342059e+00,  6.97759628e-01,  1.41726291e+00, -5.73416799e-02,\n",
       "        3.31918478e-01, -1.32947469e+00, -2.20305607e-01,  1.03750837e+00,\n",
       "       -7.72575215e-02, -3.55915040e-01, -5.47686256e-02,  8.33245993e-01,\n",
       "        8.18291456e-02,  5.18479168e-01, -1.39424488e-01, -8.24037194e-02,\n",
       "        3.13648045e-01, -1.01436114e+00, -5.54271042e-02,  1.52152523e-01,\n",
       "       -7.88739324e-01, -3.87988389e-01,  1.21066022e+00,  1.48974001e-01,\n",
       "        5.30282199e-01, -1.94409326e-01,  2.97879934e-01,  1.68925142e+00,\n",
       "        1.51589550e-02,  4.63745326e-01, -7.48662531e-01,  7.65153885e-01,\n",
       "        1.09597778e+00, -1.71983385e+00, -1.97080827e+00,  6.98133051e-01,\n",
       "       -7.56983012e-02, -5.20261228e-01,  4.80777979e-01,  3.04934770e-01,\n",
       "       -4.73327547e-01,  3.76796901e-01, -2.72731572e-01,  1.70559496e-01,\n",
       "       -1.75627208e+00, -1.41242015e+00,  1.27416360e+00, -3.61386180e-01,\n",
       "       -5.78930497e-01, -1.15301430e+00, -6.19346142e-01, -8.46176505e-01,\n",
       "       -1.01582038e+00,  3.71148549e-02,  3.34452122e-01, -4.17464703e-01,\n",
       "        2.71388817e+00, -1.54651380e+00, -4.41440403e-01,  1.08484948e+00,\n",
       "        1.43160015e-01, -2.57194132e-01,  3.78924251e-01, -6.10137999e-01,\n",
       "       -1.11822873e-01, -4.88077283e-01, -1.74590945e-01, -7.83996820e-01,\n",
       "        1.42198220e-01,  7.39125431e-01,  1.18375826e+00,  4.98389274e-01,\n",
       "       -1.11571014e-01, -1.86102164e+00,  1.42047167e+00, -5.86866319e-01,\n",
       "       -1.31924546e+00, -2.21692145e-01,  1.11135650e+00, -1.91576970e+00,\n",
       "       -8.54361176e-01, -4.62512314e-01,  4.33492035e-01, -6.05037093e-01,\n",
       "        2.38667671e-02, -6.07357502e-01, -1.28761673e+00,  1.39009130e+00,\n",
       "       -2.38514945e-01,  1.21070361e+00, -1.56499445e+00, -1.01753688e+00,\n",
       "       -2.94989020e-01, -5.19726336e-01,  2.00335145e-01, -2.11301714e-01,\n",
       "        9.20853972e-01,  1.26140285e+00, -1.52613628e+00,  1.22032881e+00,\n",
       "        1.50558263e-01, -2.84995109e-01,  4.92023379e-01,  8.93568516e-01,\n",
       "        5.68177961e-02, -9.86781478e-01, -4.40723091e-01, -8.81275356e-01,\n",
       "       -1.89723969e-01, -6.21780038e-01, -4.68221277e-01,  1.84159651e-01,\n",
       "        1.29789555e+00, -6.54985547e-01,  1.15460658e+00,  5.73587060e-01,\n",
       "        8.22334230e-01,  3.17713916e-02, -1.11158848e-01,  6.66736245e-01,\n",
       "       -8.28892827e-01,  1.22451460e+00,  6.55583680e-01, -2.31248111e-01,\n",
       "        2.50025302e-01,  8.03924620e-01,  6.36014581e-01, -1.17327893e+00,\n",
       "       -3.47417116e-01,  2.21550047e-01,  6.39662087e-01,  6.32841587e-01,\n",
       "        6.13954902e-01,  2.34627083e-01,  1.44745678e-01, -1.24869072e+00,\n",
       "        8.55189919e-01,  2.47937888e-01, -4.51052636e-01,  4.80181128e-01,\n",
       "       -1.09890926e+00, -3.53407741e-01, -1.31882656e+00, -1.33148953e-01,\n",
       "       -9.39173475e-02, -6.42386749e-02,  1.57524264e+00, -2.72018790e-01,\n",
       "        7.39939213e-01, -9.80009675e-01,  3.69980820e-02,  3.28832626e-01,\n",
       "       -3.49829912e-01,  4.61385138e-02,  1.50076258e+00, -1.27474415e+00,\n",
       "        1.89401674e+00,  2.15106949e-01, -7.84290060e-02, -3.07165980e-01,\n",
       "        6.81211889e-01,  9.50084686e-01,  1.43122241e-01, -4.96592551e-01,\n",
       "        2.59430498e-01,  9.64240015e-01,  1.93299651e-01, -1.59728676e-02,\n",
       "        1.76713812e+00, -2.74186015e-01,  7.88164735e-01, -4.52234298e-01,\n",
       "       -2.47899204e-01,  1.31566024e+00,  1.25318336e+00,  6.50547802e-01,\n",
       "        1.45844901e+00,  1.52747262e+00, -3.86376470e-01,  4.95082229e-01,\n",
       "        1.75142869e-01,  4.30697650e-01,  1.02372304e-01,  5.51440656e-01,\n",
       "       -1.87293380e-01, -4.50933963e-01,  2.31513649e-01,  8.68131638e-01],\n",
       "      dtype=float32)"
      ]
     },
     "execution_count": 30,
     "metadata": {},
     "output_type": "execute_result"
    }
   ],
   "source": [
    "vector"
   ]
  },
  {
   "cell_type": "code",
   "execution_count": 25,
   "metadata": {},
   "outputs": [],
   "source": [
    "sims = model.wv.most_similar('account', topn=5)"
   ]
  },
  {
   "cell_type": "code",
   "execution_count": 26,
   "metadata": {},
   "outputs": [
    {
     "data": {
      "text/plain": [
       "[('accountancy', 0.6540124416351318),\n",
       " ('unaccounted', 0.6372307538986206),\n",
       " ('accountant', 0.6363760828971863),\n",
       " ('rechecking', 0.6053496599197388),\n",
       " ('recount', 0.6016854047775269)]"
      ]
     },
     "execution_count": 26,
     "metadata": {},
     "output_type": "execute_result"
    }
   ],
   "source": [
    "sims"
   ]
  },
  {
   "cell_type": "code",
   "execution_count": 22,
   "metadata": {},
   "outputs": [],
   "source": [
    "embeddings_index = {w: vec for w, vec in zip(model.wv.index2word, model.wv.vectors)}"
   ]
  },
  {
   "cell_type": "code",
   "execution_count": 23,
   "metadata": {},
   "outputs": [
    {
     "data": {
      "text/plain": [
       "20862"
      ]
     },
     "execution_count": 23,
     "metadata": {},
     "output_type": "execute_result"
    }
   ],
   "source": [
    "len(embeddings_index)"
   ]
  },
  {
   "cell_type": "code",
   "execution_count": 24,
   "metadata": {},
   "outputs": [],
   "source": [
    "EMBEDDING_DIM = 300\n",
    "embedding_matrix = np.zeros((len(word_index) + 1, EMBEDDING_DIM))\n",
    "for word, i in word_index.items():\n",
    "    embedding_vector = embeddings_index.get(word)\n",
    "    if embedding_vector is not None:\n",
    "        embedding_matrix[i] = embedding_vector"
   ]
  },
  {
   "cell_type": "code",
   "execution_count": 25,
   "metadata": {},
   "outputs": [
    {
     "data": {
      "text/plain": [
       "(20863, 300)"
      ]
     },
     "execution_count": 25,
     "metadata": {},
     "output_type": "execute_result"
    }
   ],
   "source": [
    "embedding_matrix.shape"
   ]
  },
  {
   "cell_type": "code",
   "execution_count": 26,
   "metadata": {},
   "outputs": [
    {
     "data": {
      "text/plain": [
       "[('payment', 2)]"
      ]
     },
     "execution_count": 26,
     "metadata": {},
     "output_type": "execute_result"
    }
   ],
   "source": [
    "[(k,v) for k,v in word_index.items() if v==2]"
   ]
  },
  {
   "cell_type": "code",
   "execution_count": 27,
   "metadata": {},
   "outputs": [
    {
     "data": {
      "text/plain": [
       "array([ 7.31539011e-01, -7.82936335e-01,  1.06916523e+00, -8.77592087e-01,\n",
       "       -4.30221885e-01,  7.35350966e-01, -5.70138574e-01, -4.13183533e-02,\n",
       "       -3.54225606e-01, -1.49564905e-04,  8.05403233e-01,  3.10909450e-01,\n",
       "        2.74397492e-01,  3.23519930e-02,  1.74915612e+00, -1.10918248e+00,\n",
       "       -2.45208359e+00,  3.03215533e-01,  4.47574943e-01,  3.13779205e-01,\n",
       "       -4.64198649e-01, -1.40496993e+00, -4.19258505e-01,  9.26579654e-01,\n",
       "       -1.09350383e+00,  5.65705299e-01,  7.12000966e-01,  1.22846699e+00,\n",
       "        7.33553708e-01,  1.72121137e-01,  9.37234402e-01,  1.06250060e+00,\n",
       "        7.33047009e-01,  9.85433310e-02,  3.14794332e-01, -1.82026207e+00,\n",
       "        8.25520337e-01, -8.76159072e-01,  3.52541178e-01,  1.75187206e+00,\n",
       "       -3.79877210e-01,  4.34083007e-02, -1.16799176e+00,  1.25821388e+00,\n",
       "        8.70543998e-03, -1.35870075e+00, -2.57674873e-01,  7.86611736e-01,\n",
       "        6.49223447e-01, -8.84545922e-01,  1.21828938e+00,  1.34859288e+00,\n",
       "        2.47813687e-01,  6.37411594e-01,  6.32038713e-01,  5.99438965e-01,\n",
       "       -9.24468338e-01, -3.42821032e-01,  6.51463330e-01, -3.48363250e-01,\n",
       "        4.65580709e-02,  1.65180966e-01,  2.16353804e-01,  1.14472950e+00,\n",
       "       -5.64876497e-01, -1.67181104e-01, -5.72369397e-01, -5.44461496e-02,\n",
       "       -4.90093648e-01,  7.83260316e-02,  5.17968118e-01,  2.66214550e-01,\n",
       "       -5.32274067e-01, -3.27659369e-01, -7.71558702e-01, -3.49266291e-01,\n",
       "       -8.63395512e-01, -5.25120914e-01,  1.85697925e+00,  1.16193068e+00,\n",
       "        2.44527087e-01, -5.06827235e-01,  5.29467463e-01,  1.24763179e+00,\n",
       "        3.18027228e-01,  1.97371423e-01,  1.59155369e+00,  2.67211914e-01,\n",
       "        1.90263316e-01,  1.03187728e+00, -8.05848598e-01, -3.24767113e-01,\n",
       "        1.39184308e+00,  6.68346167e-01,  1.39879048e+00, -2.81289756e-01,\n",
       "       -1.96158898e+00,  4.02755857e-01, -3.50599378e-01, -9.59529698e-01,\n",
       "        3.84451360e-01,  1.45407987e+00, -1.45351756e+00,  1.61479384e-01,\n",
       "       -1.69638956e+00,  1.63850558e+00,  4.28466916e-01, -5.03579080e-01,\n",
       "       -1.12148281e-02, -4.73259360e-01, -8.45522344e-01,  2.46143413e+00,\n",
       "        6.32993460e-01, -5.67165434e-01, -1.39452070e-01, -1.73017800e-01,\n",
       "        6.25306904e-01, -7.85761535e-01,  4.42829967e-01, -3.03400084e-02,\n",
       "       -2.23732203e-01, -4.66908157e-01, -1.46910560e+00, -1.91417322e-01,\n",
       "       -2.07394600e+00, -2.16667318e+00, -7.35346019e-01,  1.15751958e+00,\n",
       "        2.99791265e+00, -1.06938660e+00,  1.75668895e+00, -4.56636548e-01,\n",
       "       -1.31762147e-01, -5.59313297e-01,  3.24034184e-01,  8.61925066e-01,\n",
       "        2.07518667e-01, -2.30258918e+00, -7.94255435e-01,  8.76989424e-01,\n",
       "        1.03801656e+00,  7.22945690e-01, -3.08688402e-01,  2.90147424e-01,\n",
       "        2.27232516e-01, -6.37040079e-01,  7.24490136e-02,  9.80804384e-01,\n",
       "       -2.35660225e-01, -6.79039136e-02,  2.04752326e+00,  1.52133632e+00,\n",
       "       -2.61826128e-01,  1.89640835e-01,  1.57315898e+00,  3.53558302e-01,\n",
       "       -1.69067943e+00, -7.17092872e-01, -4.81961042e-01, -9.87991393e-01,\n",
       "       -7.62159944e-01,  8.02661404e-02, -1.64211810e+00,  4.60659951e-01,\n",
       "       -3.01366627e-01, -1.10293210e+00,  2.38072228e+00, -8.23846459e-02,\n",
       "        1.19620562e+00, -7.16560006e-01, -1.42506540e+00, -8.22264075e-01,\n",
       "        1.29425764e+00,  8.28547299e-01, -7.73921907e-01,  4.77464706e-01,\n",
       "        6.76631570e-01,  5.77615261e-01, -1.06673002e-01,  4.16146934e-01,\n",
       "        1.53786570e-01,  2.07184076e+00,  8.61644566e-01,  1.10641062e+00,\n",
       "       -9.91241634e-01, -2.42854714e+00,  8.80359888e-01, -5.21894515e-01,\n",
       "        1.55179012e+00,  8.53382722e-02,  7.96704173e-01,  1.38828480e+00,\n",
       "       -6.80718243e-01,  6.17296278e-01, -7.97647953e-01,  5.68140626e-01,\n",
       "       -7.74806201e-01,  6.15126118e-02, -1.01493859e+00,  1.40071666e+00,\n",
       "        1.08119488e+00,  7.00469315e-02, -4.33381498e-01, -3.14533424e+00,\n",
       "        2.84014400e-02, -2.25921273e+00,  4.34581097e-03, -1.82370639e+00,\n",
       "        1.28502631e+00, -4.58304107e-01,  1.38941145e+00,  4.90698993e-01,\n",
       "       -1.05063103e-01,  4.74243909e-01, -2.27826424e-02,  1.48504651e+00,\n",
       "        1.35953173e-01,  7.83480585e-01, -1.16045944e-01,  1.06315839e+00,\n",
       "       -9.08843517e-01, -5.48052728e-01, -4.12107885e-01, -9.53488231e-01,\n",
       "       -1.08246899e+00,  1.32747263e-01, -2.55870342e-01,  9.33549643e-01,\n",
       "       -5.77589810e-01,  1.47337630e-01, -2.01492810e+00,  1.38064373e+00,\n",
       "       -1.34598687e-02,  1.31637859e+00,  3.22751611e-01, -6.69004202e-01,\n",
       "        9.87778604e-01, -4.10611391e-01, -3.24416459e-01, -2.07409906e+00,\n",
       "        6.41029716e-01, -8.62227306e-02, -7.27799237e-01,  6.86014771e-01,\n",
       "        1.66815960e+00, -8.39184821e-01,  6.16727948e-01, -4.01271731e-01,\n",
       "        1.16923618e+00,  1.49472165e+00, -6.32214189e-01,  4.14812654e-01,\n",
       "       -8.79041627e-02, -5.37539482e-01, -4.31762904e-01, -8.54106471e-02,\n",
       "        6.64829075e-01, -1.15503609e+00,  2.81495905e+00, -1.88577652e-01,\n",
       "        7.53575921e-01, -5.76549947e-01,  9.03621078e-01, -4.51735198e-01,\n",
       "        1.53528899e-01, -8.00112605e-01, -1.83841932e+00,  5.34652114e-01,\n",
       "       -4.02419090e-01, -1.23918451e-01, -8.20346177e-01,  8.30771565e-01,\n",
       "        6.01182938e-01, -4.80376750e-01, -2.91200459e-01, -1.54269314e+00,\n",
       "       -1.48293316e+00, -7.84896687e-02, -1.85555100e-01, -6.63080871e-01,\n",
       "        1.58060205e+00, -1.10674262e+00,  8.47936496e-02,  1.30434704e+00,\n",
       "        5.99681079e-01, -2.98056692e-01,  7.61463821e-01,  6.03739262e-01,\n",
       "       -8.77253488e-02, -5.71369469e-01, -5.42076789e-02,  4.74005073e-01,\n",
       "       -9.46647078e-02,  1.71877456e+00,  7.84571469e-01,  1.01256359e+00,\n",
       "        4.71145868e-01, -1.96695790e-01, -1.26187846e-01, -1.65231213e-01])"
      ]
     },
     "execution_count": 27,
     "metadata": {},
     "output_type": "execute_result"
    }
   ],
   "source": [
    "embedding_matrix[2]"
   ]
  },
  {
   "cell_type": "markdown",
   "metadata": {},
   "source": [
    "Зададим параметры модели."
   ]
  },
  {
   "cell_type": "code",
   "execution_count": 190,
   "metadata": {},
   "outputs": [],
   "source": [
    "model = Sequential()\n",
    "model.add(Embedding(len(word_index) + 1,\n",
    "                            EMBEDDING_DIM,\n",
    "                            weights=[embedding_matrix],\n",
    "                            input_length=max_doc_len,\n",
    "                            trainable=True))\n",
    "model.add(Bidirectional(LSTM(100, recurrent_dropout=0.2, dropout=0.2)))\n",
    "model.add(Dense(9, activation='softmax'))\n",
    "model.compile(loss='categorical_crossentropy',\n",
    "              optimizer='rmsprop',\n",
    "              metrics=['accuracy'])"
   ]
  },
  {
   "cell_type": "code",
   "execution_count": 191,
   "metadata": {},
   "outputs": [
    {
     "name": "stdout",
     "output_type": "stream",
     "text": [
      "Model: \"sequential_8\"\n",
      "_________________________________________________________________\n",
      "Layer (type)                 Output Shape              Param #   \n",
      "=================================================================\n",
      "embedding_8 (Embedding)      (None, 438, 300)          6258900   \n",
      "_________________________________________________________________\n",
      "bidirectional_8 (Bidirection (None, 200)               320800    \n",
      "_________________________________________________________________\n",
      "dense_8 (Dense)              (None, 9)                 1809      \n",
      "=================================================================\n",
      "Total params: 6,581,509\n",
      "Trainable params: 6,581,509\n",
      "Non-trainable params: 0\n",
      "_________________________________________________________________\n"
     ]
    }
   ],
   "source": [
    "model.summary()"
   ]
  },
  {
   "cell_type": "code",
   "execution_count": 192,
   "metadata": {},
   "outputs": [
    {
     "name": "stdout",
     "output_type": "stream",
     "text": [
      "Epoch 1/6\n",
      "2371/2371 [==============================] - 12249s 5s/step - loss: 0.7198 - accuracy: 0.7698 - val_loss: 0.6066 - val_accuracy: 0.8056\n",
      "Epoch 2/6\n",
      "2371/2371 [==============================] - 12478s 5s/step - loss: 0.5641 - accuracy: 0.8183 - val_loss: 0.5817 - val_accuracy: 0.8129\n",
      "Epoch 3/6\n",
      "2371/2371 [==============================] - 13044s 6s/step - loss: 0.5096 - accuracy: 0.8348 - val_loss: 0.5660 - val_accuracy: 0.8194\n",
      "Epoch 4/6\n",
      "2371/2371 [==============================] - 14343s 6s/step - loss: 0.4743 - accuracy: 0.8452 - val_loss: 0.5641 - val_accuracy: 0.8210\n",
      "Epoch 5/6\n",
      "2371/2371 [==============================] - 13233s 6s/step - loss: 0.4480 - accuracy: 0.8551 - val_loss: 0.5643 - val_accuracy: 0.8244\n",
      "Epoch 6/6\n",
      "2371/2371 [==============================] - 13010s 5s/step - loss: 0.4221 - accuracy: 0.8625 - val_loss: 0.5711 - val_accuracy: 0.8239\n"
     ]
    }
   ],
   "source": [
    "history = model.fit(X_train, y_train, batch_size=30, epochs=6, validation_data=(X_test, y_test))"
   ]
  },
  {
   "cell_type": "code",
   "execution_count": 193,
   "metadata": {},
   "outputs": [],
   "source": [
    "model.save('model_keras.h5')"
   ]
  },
  {
   "cell_type": "code",
   "execution_count": 243,
   "metadata": {},
   "outputs": [],
   "source": [
    "model = keras.models.load_model('model_keras.h5')"
   ]
  },
  {
   "cell_type": "markdown",
   "metadata": {},
   "source": [
    "Посмотрим на графики Accuracy и Loss."
   ]
  },
  {
   "cell_type": "code",
   "execution_count": 195,
   "metadata": {},
   "outputs": [
    {
     "data": {
      "image/png": "[encoded data removed]",
      "text/plain": [
       "<Figure size 432x288 with 1 Axes>"
      ]
     },
     "metadata": {
      "needs_background": "light"
     },
     "output_type": "display_data"
    },
    {
     "data": {
      "image/png": "[encoded data removed]",
      "text/plain": [
       "<Figure size 432x288 with 1 Axes>"
      ]
     },
     "metadata": {
      "needs_background": "light"
     },
     "output_type": "display_data"
    }
   ],
   "source": [
    "# График Accuracy\n",
    "plt.plot(history.history['accuracy'])\n",
    "plt.plot(history.history['val_accuracy'])\n",
    "plt.ylabel('accuracy')\n",
    "plt.xlabel('epoch')\n",
    "plt.legend(['train', 'test'], loc='upper left')\n",
    "plt.title('Accuracy Curves', fontsize=16)\n",
    "plt.show()\n",
    "\n",
    "# График Loss\n",
    "plt.plot(history.history['loss'])\n",
    "plt.plot(history.history['val_loss'])\n",
    "plt.ylabel('loss')\n",
    "plt.xlabel('epoch')\n",
    "plt.legend(['train', 'test'], loc='upper left')\n",
    "plt.title('Loss Curves', fontsize=16)\n",
    "plt.show()"
   ]
  },
  {
   "cell_type": "markdown",
   "metadata": {},
   "source": [
    "Посмотрим на метрики и матрицу ошибок."
   ]
  },
  {
   "cell_type": "code",
   "execution_count": 196,
   "metadata": {},
   "outputs": [
    {
     "data": {
      "text/plain": [
       "array([[1.14109311e-02, 1.91162035e-01, 2.14343816e-02, ...,\n",
       "        1.46462962e-01, 1.05339311e-01, 2.13220149e-01],\n",
       "       [8.14227024e-05, 1.18845826e-04, 1.62274664e-04, ...,\n",
       "        9.76775348e-01, 5.02148410e-04, 4.12248861e-04],\n",
       "       [1.24139152e-03, 9.94152367e-01, 1.97850377e-03, ...,\n",
       "        5.30822901e-04, 1.49170701e-05, 1.21874400e-04],\n",
       "       ...,\n",
       "       [7.37208407e-04, 5.94015182e-05, 1.82251970e-03, ...,\n",
       "        1.04377267e-03, 3.38540995e-05, 1.21568366e-04],\n",
       "       [8.50091863e-04, 8.63076281e-03, 9.58981454e-01, ...,\n",
       "        2.12458838e-02, 7.96696695e-04, 5.39527368e-03],\n",
       "       [1.91068739e-01, 1.67553301e-03, 3.88485467e-04, ...,\n",
       "        3.28229927e-03, 7.09256637e-05, 7.14846849e-02]], dtype=float32)"
      ]
     },
     "execution_count": 196,
     "metadata": {},
     "output_type": "execute_result"
    }
   ],
   "source": [
    "predicted=model.predict(X_test)\n",
    "predicted"
   ]
  },
  {
   "cell_type": "code",
   "execution_count": 197,
   "metadata": {},
   "outputs": [
    {
     "name": "stdout",
     "output_type": "stream",
     "text": [
      "                                                                              precision    recall  f1-score   support\n",
      "\n",
      "                                                 Checking or savings account       0.81      0.82      0.81      2633\n",
      "                                                 Credit card or prepaid card       0.83      0.78      0.80      2634\n",
      "Credit reporting, credit repair services, or other personal consumer reports       0.82      0.70      0.76      2633\n",
      "                                                             Debt collection       0.79      0.78      0.79      2634\n",
      "                          Money transfer, virtual currency, or money service       0.89      0.80      0.84      2634\n",
      "                                                                    Mortgage       0.91      0.93      0.92      2634\n",
      "                                   Payday loan, title loan, or personal loan       0.81      0.71      0.76      2634\n",
      "                                                                Student loan       0.93      0.89      0.91      2634\n",
      "                                                       Vehicle loan or lease       0.85      0.82      0.84      2634\n",
      "\n",
      "                                                                   micro avg       0.85      0.80      0.83     23704\n",
      "                                                                   macro avg       0.85      0.80      0.83     23704\n",
      "                                                                weighted avg       0.85      0.80      0.83     23704\n",
      "                                                                 samples avg       0.80      0.80      0.80     23704\n",
      "\n"
     ]
    },
    {
     "name": "stderr",
     "output_type": "stream",
     "text": [
      "H:\\Anaconda\\lib\\site-packages\\sklearn\\metrics\\_classification.py:1248: UndefinedMetricWarning: Precision and F-score are ill-defined and being set to 0.0 in samples with no predicted labels. Use `zero_division` parameter to control this behavior.\n",
      "  _warn_prf(average, modifier, msg_start, len(result))\n"
     ]
    }
   ],
   "source": [
    "print(classification_report(y_test, predicted.round(), target_names=en.classes_))"
   ]
  },
  {
   "cell_type": "code",
   "execution_count": 198,
   "metadata": {},
   "outputs": [
    {
     "data": {
      "image/png": "[encoded data removed]",
      "text/plain": [
       "<Figure size 576x432 with 2 Axes>"
      ]
     },
     "metadata": {
      "needs_background": "light"
     },
     "output_type": "display_data"
    }
   ],
   "source": [
    "conf_mat = confusion_matrix(y_test.argmax(axis=1), predicted.argmax(axis=1))\n",
    "fig, ax = plt.subplots(figsize=(8,6))\n",
    "sns.heatmap(conf_mat, annot=True, fmt=\"d\", cmap=\"BuPu\", xticklabels=en.classes_, yticklabels=en.classes_)\n",
    "plt.ylabel('Actual')\n",
    "plt.xlabel('Predicted')\n",
    "plt.show()"
   ]
  },
  {
   "cell_type": "markdown",
   "metadata": {},
   "source": [
    "Протестируем модель на новом сообщении."
   ]
  },
  {
   "cell_type": "code",
   "execution_count": 199,
   "metadata": {},
   "outputs": [],
   "source": [
    "contraction_dict = {\"ain't\": \"are not\", \" aint \": \" are not \", \"aren't\": \"are not\", \" cant \": \" cannot \", \"can't\": \"cannot\", \"'cause\": \"because\", ' chk ': ' check ', \"could've\": \"could have\", \"couldn't\": \"could not\", \"couldnt\": \"could not\", \"'d \": \" would \", \"didnt\": \"did not\", \"didn't\": \"did not\",  \"doesn't\": \"does not\", \"don't\": \"do not\", \"dont\": \"do not\", \"doesnt\": \"does not\", \"hadn't\": \"had not\", \"hasn't\": \"has not\", \"haven't\": \"have not\", \"he'd\": \"he would\", \"he'll\": \"he will\", \"he's\": \"he is\", \"how'd\": \"how did\", \"how'd'y\": \"how do you\", \"how'll\": \"how will\", \"how's\": \"how is\",  \"I'd\": \"I would\", \"I'd've\": \"I would have\", \"I'll\": \"I will\", \"I'll've\": \"I will have\", \" iVe \": \"I have\", \"Ive\": \"I have\", \" im \": \" I am \", \" Im \": \" I am \", \"I'm\": \"I am\", \"I've\": \"I have\", \"Id\": \"I would\", \"i'd\": \"i would\", \"i'd've\": \"i would have\", \"i'll\": \"i will\",  \"i'll've\": \"i will have\", \"i'm\": \"i am\", \"i've\": \"i have\", \"isn't\": \"is not\", \"it'd\": \"it would\", \"it'd've\": \"it would have\", \"it'll\": \"it will\", \"it'll've\": \"it will have\", \"it's\": \"it is\", \"'ll\": \" will \", \"let's\": \"let us\", \"ma'am\": \"madam\", \"mayn't\": \"may not\", \"might've\": \"might have\", \"mightn't\": \"might not\", \"mightn't've\": \"might not have\", ' mths ': ' months ', \"must've\": \"must have\", \"mustn't\": \"must not\", \"mustn't've\": \"must not have\", \"needn't\": \"need not\", \"needn't've\": \"need not have\", \"n't\": \" not \", \"o'clock\": \"of the clock\", \"oughtn't\": \"ought not\", \"oughtn't've\": \"ought not have\", \"'re\": \" are \", ' rcvd ': ' received ', \"'s\": \" \", \"shan't\": \"shall not\", \"sha'n't\": \"shall not\", \"shan't've\": \"shall not have\", \"she'd\": \"she would\", \"she'd've\": \"she would have\", \"she'll\": \"she will\", \"she'll've\": \"she will have\", \"she's\": \"she is\", \"should've\": \"should have\", \"shouldn't\": \"should not\", \"shouldn't've\": \"should not have\", \"so've\": \"so have\", \"so's\": \"so as\", \"this's\": \"this is\", \"that'd\": \"that would\", \"that'd've\": \"that would have\", \"thats\": \"that is\", \"that's\": \"that is\", \"there'd\": \"there would\", \"there'd've\": \"there would have\", \"there's\": \"there is\", \"here's\": \"here is\", \"they'd\": \"they would\", \"they'd've\": \"they would have\", \"they'll\": \"they will\", \"they'll've\": \"they will have\", \"theyre\": \"they are\", \"they're\": \"they are\", \"they've\": \"they have\", \"to've\": \"to have\", \"wasn't\": \"was not\", \"we'd\": \"we would\", \"we'd've\": \"we would have\", \"we'll\": \"we will\", \"we'll've\": \"we will have\", \"we're\": \"we are\", \"we've\": \"we have\", \"weren't\": \"were not\", \"what'll\": \"what will\", \"what'll've\": \"what will have\", \"what're\": \"what are\",  \"what's\": \"what is\", \"what've\": \"what have\", \"when's\": \"when is\", \"when've\": \"when have\", \"where'd\": \"where did\", \"where's\": \"where is\", \"where've\": \"where have\", \"who'll\": \"who will\", \"who'll've\": \"who will have\", \"who's\": \"who is\", \"who've\": \"who have\", \"why's\": \"why is\", \"why've\": \"why have\", \"will've\": \"will have\", \"won't\": \"will not\", \"won't've\": \"will not have\", \"would've\": \"would have\", \"wouldn't\": \"would not\", \"wouldn't've\": \"would not have\", \"y'all\": \"you all\", \"y'all'd\": \"you all would\",\"y'all'd've\": \"you all would have\", \"y'all're\": \"you all are\", \"y'all've\": \"you all have\", \"you'd\": \"you would\", \"you'd've\": \"you would have\", \"you'll\": \"you will\", \"you'll've\": \"you will have\", \"you're\": \"you are\", \"you've\": \"you have\", \"'ve\": \" have \", \" yrs \": \" years \"}"
   ]
  },
  {
   "cell_type": "code",
   "execution_count": 200,
   "metadata": {},
   "outputs": [],
   "source": [
    "def _get_contractions(contraction_dict):\n",
    "    contraction_re = re.compile('(%s)' % '|'.join(contraction_dict.keys()))\n",
    "    return contraction_dict, contraction_re\n",
    "contractions, contractions_re = _get_contractions(contraction_dict)\n",
    "def replace_contractions(text):\n",
    "    def replace(match):\n",
    "        return contractions[match.group(0)]\n",
    "    return contractions_re.sub(replace, text)"
   ]
  },
  {
   "cell_type": "code",
   "execution_count": 201,
   "metadata": {},
   "outputs": [],
   "source": [
    "def remove_url(text):\n",
    "    text_without_url = re.sub(r'http[s]?://\\S+', ' ', text)\n",
    "    text_without_url = re.sub(r'http[s]? : //\\S+', ' ', text_without_url)\n",
    "    text_without_url = re.sub(r'http[s]? :', ' ', text_without_url)\n",
    "    text_without_url = re.sub(r'http[s]?', ' ', text_without_url)\n",
    "    text_without_url = re.sub(r'//www\\.\\S+', ' ', text_without_url) \n",
    "    text_without_url = re.sub(r'www\\.\\S+', '', text_without_url)\n",
    "    text_without_url = re.sub(r'\\( i+ \\)', '', text_without_url) \n",
    "    text_without_url = re.sub(r'\\S+\\.com', ' ', text_without_url)\n",
    "    text_without_url = re.sub(r'\\S+\\.gov', ' ', text_without_url)\n",
    "    text_without_url = re.sub(r'[\\w\\.-]+@[\\w\\.-]+(\\.[\\w]+)+', ' ', text_without_url)\n",
    "    text_without_url = re.sub(r'\\S+\\.pdf', ' ', text_without_url)\n",
    "    text_without_url = re.sub(r'\\S+\\.png', ' ', text_without_url)\n",
    "    return(text_without_url)"
   ]
  },
  {
   "cell_type": "code",
   "execution_count": 202,
   "metadata": {},
   "outputs": [],
   "source": [
    "def bad_symb_replace(text):\n",
    "    REPLACE_BY_SPACE_RE = re.compile('[!\"#$%&\\'()*+,-./:;<=>?@[\\\\]^_`{|}~-—«»—…–“”0-9]')\n",
    "    clean_text = REPLACE_BY_SPACE_RE.sub(' ',  text)\n",
    "    clean_text = re.sub(\"XX+\",\" \", clean_text)\n",
    "    clean_text = re.sub(\"[X/]+\", \" \", clean_text)\n",
    "    clean_text = clean_text.lower()\n",
    "    clean_text = clean_text.replace(\"\\n\", \" \").replace(\"\\n\\n\", \" \").replace(\"   \", \" \").replace(\"   \", \" \").replace(\"  \", ' ')\n",
    "    return clean_text"
   ]
  },
  {
   "cell_type": "code",
   "execution_count": 203,
   "metadata": {},
   "outputs": [
    {
     "data": {
      "text/plain": [
       "True"
      ]
     },
     "execution_count": 203,
     "metadata": {},
     "output_type": "execute_result"
    }
   ],
   "source": [
    "sym_spell = SymSpell(max_dictionary_edit_distance=1, prefix_length=7)\n",
    "dictionary_path = pkg_resources.resource_filename(\n",
    "    \"symspellpy\", \"frequency_dictionary_en_82_765.txt\")\n",
    "sym_spell.load_dictionary(dictionary_path, term_index=0, count_index=1)"
   ]
  },
  {
   "cell_type": "code",
   "execution_count": 204,
   "metadata": {},
   "outputs": [],
   "source": [
    "def correct(text):\n",
    "    cleaned_text = sym_spell.word_segmentation(text).corrected_string\n",
    "    return cleaned_text"
   ]
  },
  {
   "cell_type": "code",
   "execution_count": 205,
   "metadata": {},
   "outputs": [],
   "source": [
    "stop_words = list(get_stop_words('en'))        \n",
    "nltk_words = list(stopwords.words('english'))\n",
    "stop_words.extend(nltk_words)\n",
    "stop_words = set(stop_words)"
   ]
  },
  {
   "cell_type": "code",
   "execution_count": 206,
   "metadata": {},
   "outputs": [],
   "source": [
    "stop_words.update(['would', 'hello', 'hi', 'dear', 'mines', 'mr', 'mrs', 'miss', 'ms', 'sir', 'sirs', 'madam', 'please', 'etc', 'xxxx', 'xx', 'x', 'xxx', 'st', 'nd', 'rd', 'th', 'http', 'www', 'com', 'a'])"
   ]
  },
  {
   "cell_type": "code",
   "execution_count": 207,
   "metadata": {},
   "outputs": [],
   "source": [
    "def preprocess_tokenize(text):\n",
    "    clean_words = wordpunct_tokenize(text)\n",
    "    return clean_words"
   ]
  },
  {
   "cell_type": "code",
   "execution_count": 208,
   "metadata": {},
   "outputs": [],
   "source": [
    "tag_dict = {\n",
    "    \"N\": wordnet.NOUN,\n",
    "    \"V\": wordnet.VERB,\n",
    "    \"J\": wordnet.ADJ,\n",
    "    \"R\": wordnet.ADV\n",
    "}"
   ]
  },
  {
   "cell_type": "code",
   "execution_count": 209,
   "metadata": {},
   "outputs": [],
   "source": [
    "def extract_wnpostag_from_postag(tag):\n",
    "    return tag_dict.get(tag[0].upper(), None)\n",
    "\n",
    "def lemmatize_tupla_word_postag(tupla):\n",
    "    tag = extract_wnpostag_from_postag(tupla[1])    \n",
    "    return lemmatizer.lemmatize(tupla[0], tag) if tag is not None else tupla[0]"
   ]
  },
  {
   "cell_type": "code",
   "execution_count": 210,
   "metadata": {},
   "outputs": [],
   "source": [
    "def msg_lemmatization(message):\n",
    "    message = replace_contractions(message)\n",
    "    message = remove_url(message)\n",
    "    message = bad_symb_replace(message)\n",
    "    message = correct(message)\n",
    "    message = preprocess_tokenize(message)\n",
    "    tagged_words = nltk.pos_tag(message)\n",
    "    lemmas = [lemmatize_tupla_word_postag(word) for word in tagged_words]\n",
    "    lemmas = [word for word in lemmas if word not in stop_words]\n",
    "    lemmas = \" \".join(message)\n",
    "    lemmas = lemmas.replace(' well fargo ', ' wells fargo ')\n",
    "    return [lemmas]"
   ]
  },
  {
   "cell_type": "code",
   "execution_count": 211,
   "metadata": {},
   "outputs": [],
   "source": [
    "new_message_input = \"\"\"I applied for credit with Synchrony Bank XXXX FL and was turn down because their system said my credit score is too low [ XXXX ] this is not correct my score is XXXX XXXX and XXXX XXXX I feel this is Discrimination\"\"\""
   ]
  },
  {
   "cell_type": "code",
   "execution_count": 212,
   "metadata": {},
   "outputs": [
    {
     "name": "stdout",
     "output_type": "stream",
     "text": [
      "I applied for credit with Synchrony Bank XXXX FL and was turn down because their system said my credit score is too low [ XXXX ] this is not correct my score is XXXX XXXX and XXXX XXXX I feel this is Discrimination\n"
     ]
    }
   ],
   "source": [
    "print(new_message_input)"
   ]
  },
  {
   "cell_type": "code",
   "execution_count": 213,
   "metadata": {},
   "outputs": [
    {
     "name": "stdout",
     "output_type": "stream",
     "text": [
      "\n",
      "Predicted label: Credit card or prepaid card\n"
     ]
    }
   ],
   "source": [
    "new_message = msg_lemmatization(new_message_input)\n",
    "new_message_sequences = tokenizer.texts_to_sequences(new_message)\n",
    "new_message_data = pad_sequences(new_message_sequences, maxlen=max_doc_len, padding='post')\n",
    "pred = model.predict(new_message_data)\n",
    "print(\"\\nPredicted label: {}\".format(en.classes_[np.argmax(pred)]))"
   ]
  },
  {
   "cell_type": "code",
   "execution_count": 214,
   "metadata": {},
   "outputs": [],
   "source": [
    "new_message_input2 = \"\"\"My mortgage is with BB & T Bank, recently I have been investigating ways to pay down my mortgage faster and I came across Biweekly Mortgage Calculator on BB & T 's website. It's a nice, easy to use calculator that you plug in your interest rate, mortgage amount, mortgage term, and payment type and it calculates your accelerated bi-weekly payment for you and shows you how much quicker you can pay down your loan. Ours figured out to pay off a 30 year mortgage in 26.4 years ... quite a savings! I called BB & T 's customer service number to inquire how I get set up on this payment plan. I was told they do not offer that type of payment plan, but I could send in my payments bi-weekly but it would not be applied until the full amount was received. ( the money would sit in a \"\" holding account '' until the full payment amount was collected ). I ended up calling back a few days later thinking the rep I was talking to didn't understand what I wanted to do or was not knowledgeable of this program. I got the SAME ANSWER! I then asked for the corporate BB & T office number where I could speak to someone that was knowledgeable of this product. After 3 days I received a phone call back from a corporate manager stating they do not offer this product, and they were \"\" checking into why this is on their website ''. She stated they do have a few customers that make bi-weekly payments, but they no longer offer this service. I don't understand how they can have this active link on their website under their Financial Planning Center tab to mislead customers when all they say is \"\" I'm sorry, I know you're upset about this '' Sounds like false advertising to me!\"\"\""
   ]
  },
  {
   "cell_type": "code",
   "execution_count": 215,
   "metadata": {},
   "outputs": [
    {
     "name": "stdout",
     "output_type": "stream",
     "text": [
      "My mortgage is with BB & T Bank, recently I have been investigating ways to pay down my mortgage faster and I came across Biweekly Mortgage Calculator on BB & T 's website. It's a nice, easy to use calculator that you plug in your interest rate, mortgage amount, mortgage term, and payment type and it calculates your accelerated bi-weekly payment for you and shows you how much quicker you can pay down your loan. Ours figured out to pay off a 30 year mortgage in 26.4 years ... quite a savings! I called BB & T 's customer service number to inquire how I get set up on this payment plan. I was told they do not offer that type of payment plan, but I could send in my payments bi-weekly but it would not be applied until the full amount was received. ( the money would sit in a \"\" holding account '' until the full payment amount was collected ). I ended up calling back a few days later thinking the rep I was talking to didn't understand what I wanted to do or was not knowledgeable of this program. I got the SAME ANSWER! I then asked for the corporate BB & T office number where I could speak to someone that was knowledgeable of this product. After 3 days I received a phone call back from a corporate manager stating they do not offer this product, and they were \"\" checking into why this is on their website ''. She stated they do have a few customers that make bi-weekly payments, but they no longer offer this service. I don't understand how they can have this active link on their website under their Financial Planning Center tab to mislead customers when all they say is \"\" I'm sorry, I know you're upset about this '' Sounds like false advertising to me!\n"
     ]
    }
   ],
   "source": [
    "print(new_message_input2)"
   ]
  },
  {
   "cell_type": "code",
   "execution_count": 216,
   "metadata": {},
   "outputs": [
    {
     "name": "stdout",
     "output_type": "stream",
     "text": [
      "\n",
      "Predicted label: Mortgage\n"
     ]
    }
   ],
   "source": [
    "new_message = msg_lemmatization(new_message_input2)\n",
    "new_message_sequences = tokenizer.texts_to_sequences(new_message)\n",
    "new_message_data = pad_sequences(new_message_sequences, maxlen=max_doc_len, padding='post')\n",
    "pred = model.predict(new_message_data)\n",
    "print(\"\\nPredicted label: {}\".format(en.classes_[np.argmax(pred)]))"
   ]
  },
  {
   "cell_type": "code",
   "execution_count": 227,
   "metadata": {},
   "outputs": [],
   "source": [
    "new_message_input3 = \"\"\"I 'm XXXX now and I 'm trying to get my free credit report and I keep getting my information does n't match my record?\"\"\""
   ]
  },
  {
   "cell_type": "code",
   "execution_count": 228,
   "metadata": {},
   "outputs": [
    {
     "name": "stdout",
     "output_type": "stream",
     "text": [
      "I 'm XXXX now and I 'm trying to get my free credit report and I keep getting my information does n't match my record?\n"
     ]
    }
   ],
   "source": [
    "print(new_message_input3)"
   ]
  },
  {
   "cell_type": "code",
   "execution_count": 229,
   "metadata": {},
   "outputs": [
    {
     "name": "stdout",
     "output_type": "stream",
     "text": [
      "\n",
      "Predicted label: Credit reporting, credit repair services, or other personal consumer reports\n"
     ]
    }
   ],
   "source": [
    "new_message = msg_lemmatization(new_message_input3)\n",
    "new_message_sequences = tokenizer.texts_to_sequences(new_message)\n",
    "new_message_data = pad_sequences(new_message_sequences, maxlen=max_doc_len, padding='post')\n",
    "pred = model.predict(new_message_data)\n",
    "print(\"\\nPredicted label: {}\".format(en.classes_[np.argmax(pred)]))"
   ]
  },
  {
   "cell_type": "code",
   "execution_count": 220,
   "metadata": {},
   "outputs": [
    {
     "name": "stdout",
     "output_type": "stream",
     "text": [
      "\n",
      "Narrative: I, Am writing this letter for a family member who doesn't speak English. \n",
      "\n",
      "On XX/XX/2018 estimated cost {$55.00} I Six months ago helped a friend purchase a car from XXXX dealer On XXXX XXXX. I am limited of understanding and Speaking English, but with my limited English I was assured my name would be taken off the car and placed in my friends name. On XX/XX/XXXX we went to the dealers and I took a translator, since they could not provide me with one the first time. I was informed my name could only be taken off if truck was traded in and a new car was purchased. My friend and his cosigner agreed to this solution. I left truck at dealer with keys with the intention that issue was taken care of. The next day my friend showed up at work with the car he was purchasing from dealer, so I went to dealer that after noon at XXXX XXXX. to sign paper work and received copies that it was out of my name and had no worries everything was taken care of. It is now XX/XX/2018 and I received a phone call from a representative by the name of XXXX ( XXXX XXXX ) who speaks some XXXX  stating I need to pick the truck up, since the deal did not happen with truck trade in. I am confused I witnessed a signature that allowed my friend to drive away in a new car from dealer and witnessed the car in the parking lot of our Job. Are sales representatives there to give false information to buyers so they make a sale or are there laws, which protect the buyers of being told the truth at the time of purchase?? The truck is still on your premises and I contacted the financial company and a lawyer to see what my options are. I will go on Friday to speak with the manager who assured me all was good, so he can explain and give me reasons on why I was lied to and tell me to take the truck and nothing your company can do for me but tell me lies. I am ready to hear this on Friday I have no high expectations nor expected any help from your dealership. \n",
      "\n",
      "Actual label: Vehicle loan or lease \n",
      "\n",
      "Predicted label: Vehicle loan or lease\n"
     ]
    }
   ],
   "source": [
    "index = 1\n",
    "x_test = np.array([data.iloc[index, 1]])\n",
    "x_label = np.array([data.iloc[index, 0]])\n",
    "x_test_sequences = tokenizer.texts_to_sequences(x_test)\n",
    "x_test_data = pad_sequences(x_test_sequences, maxlen=max_doc_len, padding='post')\n",
    "pred = model.predict(x_test_data)\n",
    "print(\"\\nNarrative: {} \\n\\nActual label: {} \\n\\nPredicted label: {}\".format(x_test[0], \n",
    "                                                                            x_label[0], \n",
    "                                                                            en.classes_[np.argmax(pred)]))"
   ]
  },
  {
   "cell_type": "code",
   "execution_count": 242,
   "metadata": {
    "scrolled": false
   },
   "outputs": [
    {
     "name": "stdout",
     "output_type": "stream",
     "text": [
      "\n",
      "\n",
      "Narrative: I am making a final goodwill attempt to have XXXX and TransUnion to clear up this matter. They have sent back verified and entirely inaccurate, unverified and represent a serious matter in their credit reporting that they maintain under my social security number. \n",
      "\n",
      "Also, please be advised that this is my second time contacting them both about this matter in writing. These companies are in violation of 15 U.S.C 1681. They both have XXXX XXXX reporting as the verification 3rd party, they have no permission to furnish any information on my credit report in the first place. Also note that third party verification systems also known as Pacer.gov, The Fair Credit Reporting Act mentions nothing in ... \n",
      "\n",
      "Actual label: Credit reporting, credit repair services, or other personal consumer reports \n",
      "\n",
      "Predicted label: Credit reporting, credit repair services, or other personal consumer reports\n",
      "\n",
      "\n",
      "\n",
      "Narrative: I, Am writing this letter for a family member who doesn't speak English. \n",
      "\n",
      "On XX/XX/2018 estimated cost {$55.00} I Six months ago helped a friend purchase a car from XXXX dealer On XXXX XXXX. I am limited of understanding and Speaking English, but with my limited English I was assured my name would be taken off the car and placed in my friends name. On XX/XX/XXXX we went to the dealers and I took a translator, since they could not provide me with one the first time. I was informed my name could only be taken off if truck was traded in and a new car was purchased. My friend and his cosigner agreed to this solution. I left truck at dealer with keys with the intention that issue was taken care ... \n",
      "\n",
      "Actual label: Vehicle loan or lease \n",
      "\n",
      "Predicted label: Vehicle loan or lease\n",
      "\n",
      "\n",
      "\n",
      "Narrative: I have bill service at BBT and month after they pay bills on and earlier than what schedule it be paid resort shortage of funds and a charge for over draft when you call them on it they send a email stating over draft would be refunded un [ less you send a follow up email you don 't get the refund, I requested a list of the over draft charges and proof of the credit to date I have not receive nothing this conduct has caused my gas to be cut of two When I ask the bill wasn't paid to date no reply when they pay early the funds ion my checking is used and when my monthly deposit is made they pay the scheduled billed and never put back the fund they paid out early and misused my funds, they just... \n",
      "\n",
      "Actual label: Checking or savings account \n",
      "\n",
      "Predicted label: Checking or savings account\n",
      "\n",
      "\n",
      "\n",
      "Narrative: I have been disputing this debt inaccuracy for months now and my latest letter from experian said my dispute letter was irrelevant information which is so untrue, the address that the debt was originated is listed on my report at two different locations, and the dates are unfamiliar to me, the debt is so old. It was opened in 2008.... \n",
      "\n",
      "Actual label: Credit reporting, credit repair services, or other personal consumer reports \n",
      "\n",
      "Predicted label: Debt collection\n",
      "\n",
      "\n",
      "\n",
      "Narrative: My bank account was drafted by a third party loan forgiveness servicer and I was led to believe this was the US Department of Federal Student Loan Forgiveness. However, I received a call from the US Federal Student Loan Forgiveness program they informed me that I have been paying a 3rd party fraudulent loan forgiveness and they have deducted from my account since XX/XX/XXXX and  none of my loans were paid toward the actual loans held by the US Department of Federal Student Loan provider. The fraud providers company is XXXX XXXX XXXX XXXX XXXX XXXX XXXX XXXX XXXX XXXX XXXX XXXX XXXX ) XXXX. I  have reached out to my bank to stop future payments to XXXX XXXX XXXX. Now I have to move quickly so... \n",
      "\n",
      "Actual label: Student loan \n",
      "\n",
      "Predicted label: Student loan\n",
      "\n",
      "\n",
      "\n",
      "Narrative: I am an auto dealer that had a loan approval thru the finance company BHFC. I went and bought a car for a customer based on the loan approval from this finance company and when we sent it in for funding, after MANY recorded calls, XXXX from BHFC, declined the loan package after we sent it in for funding. His first response was, the customer was using multiple SSN 's,  then he said no, that was n't the case, he had had a recent repossession. I had in good faith sent the lending institution this application knowing my customer had credit issues. Our dealership is small and we do n't pull credit reports, so we rely our banks to do their due diligence to approve or deny credit. This lending inst... \n",
      "\n",
      "Actual label: Vehicle loan or lease \n",
      "\n",
      "Predicted label: Vehicle loan or lease\n",
      "\n",
      "\n",
      "\n",
      "Narrative: Thank You XXXX XXXX  for returning my funds finally after 4 months of investigation. As you now know I did not commit any fraud or un authorized transactions by my mother who gave authorization and instructions to take money from her bank accounts when she became seriously ill again. So I want to up load this final document, Affidavit from my Mother to Bank of America that she sent by Fax yesterday to XXXX from within Bank of America Branch, and also e mailed to the person in charge of frauds mr. XXXX XXXX at XXXX. \n",
      "This Affidavit is indisputable evidence and documentary evidence that I did no wrong do and that my Mother made a gross error in filing a false claim on me due to XXXX, XXXX XXXX... \n",
      "\n",
      "Actual label: Debt collection \n",
      "\n",
      "Predicted label: Checking or savings account\n",
      "\n",
      "\n",
      "\n",
      "Narrative: I have an apartment from ( XXXX XXXX ) debt in collections from XX/XX/2013 that really was not even a accurate debt o had an apartment that the lease was fulfilled but because I did not write a 30 day notice up leaving was charged with a balance. The owner didnt not properly contact me I was not aware that account was going into collections. Have yet to receive anything in writing. Account is 7 years old and I have asked for it to be removed.... \n",
      "\n",
      "Actual label: Debt collection \n",
      "\n",
      "Predicted label: Debt collection\n",
      "\n",
      "\n",
      "\n",
      "Narrative: I obtained a XXXX XXXX credit card managed by XXXX XXXX to purchase furniture for a new home. XXXX 's was offering a promotional 36 month Equal Payment No Interest program if you signed up for a XXXX credit card. I signed up for the program and purchased XXXX of furniture on XX/XX/XXXX. On XX/XX/XXXX I purchased an additional {$1800.00} of furniture however this promotion was 12 Months Deferred Interest. \n",
      "I began making the Total Minimum Payment due beginning on or about XX/XX/XXXX with the additional purchase of {$1800.00} added after XX/XX/XXXX. I paid the Total Minimum Payment which varied from $ XXXX/mo to $ XXXX/mo. \n",
      "This month I noticed that {$430.00} of interest had accrued in XX/XX/X... \n",
      "\n",
      "Actual label: Credit card or prepaid card \n",
      "\n",
      "Predicted label: Credit card or prepaid card\n",
      "\n",
      "\n",
      "\n",
      "Narrative: I received a letter in the mail from Hunter Warfield threatening to sue me for a past due amount resulting from eviction. I was in a bad car accident that left me hospitalized for three weeks and in recovery for ten months, resulting in losing my employment. Eventually, I was evicted because I couldnt pay my rent. I reached out to the XXXX at XXXX and explained my situation. They informed me that because I had a unique case, they would not sell my account to collections and would allow me the opportunity to pay {$1300.00} to settle the account as agreed. However, I never received any confirmation of the settlement offered in writing. Because I lost contact with the management company, I assu... \n",
      "\n",
      "Actual label: Debt collection \n",
      "\n",
      "Predicted label: Debt collection\n",
      "\n"
     ]
    }
   ],
   "source": [
    "for i in range(10):\n",
    "    x_test = np.array([data.iloc[i, 1]])\n",
    "    x_label = np.array([data.iloc[i, 0]])\n",
    "    x_test_sequences = tokenizer.texts_to_sequences(x_test)\n",
    "    x_test_data = pad_sequences(x_test_sequences, maxlen=max_doc_len, padding='post')\n",
    "    pred = model.predict(x_test_data)\n",
    "    print(\"\\n\\nNarrative: {} \\n\\nActual label: {} \\n\\nPredicted label: {}\\n\".format(x_test[0][:700] + '...', \n",
    "                                                                            x_label[0], \n",
    "                                                                            en.classes_[np.argmax(pred)]))"
   ]
  },
  {
   "cell_type": "code",
   "execution_count": null,
   "metadata": {},
   "outputs": [],
   "source": []
  },
  {
   "cell_type": "code",
   "execution_count": null,
   "metadata": {},
   "outputs": [],
   "source": []
  }
 ],
 "metadata": {
  "_change_revision": 0,
  "_is_fork": false,
  "kernelspec": {
   "display_name": "Python 3",
   "language": "python",
   "name": "python3"
  },
  "language_info": {
   "codemirror_mode": {
    "name": "ipython",
    "version": 3
   },
   "file_extension": ".py",
   "mimetype": "text/x-python",
   "name": "python",
   "nbconvert_exporter": "python",
   "pygments_lexer": "ipython3",
   "version": "3.8.5"
  }
 },
 "nbformat": 4,
 "nbformat_minor": 4
}
